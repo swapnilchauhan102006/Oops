{
  "nbformat": 4,
  "nbformat_minor": 0,
  "metadata": {
    "colab": {
      "provenance": []
    },
    "kernelspec": {
      "name": "python3",
      "display_name": "Python 3"
    },
    "language_info": {
      "name": "python"
    }
  },
  "cells": [
    {
      "cell_type": "markdown",
      "source": [
        "**PYTHON ASSIGNMENT - OOPS**"
      ],
      "metadata": {
        "id": "WeIgaTYD6BHW"
      }
    },
    {
      "cell_type": "markdown",
      "source": [
        "**Name:** Swapnil Chauhan\n",
        "\n",
        "**Email:** swapnilchauhan2006@gmail.com\n",
        "\n",
        "**Module:** OOPS\n",
        "\n",
        "**Platform:** PW Skills"
      ],
      "metadata": {
        "id": "bo2YmCGo6N7V"
      }
    },
    {
      "cell_type": "markdown",
      "source": [
        "**Q1. What is Object-Oriented Programming (OOP)?**\n",
        "\n",
        "**Answer:**\n",
        "\n",
        " Object-Oriented Programming (OOP) is a way of writing programs by creating objects that represent real-world things. These objects have data (like a car's color or speed) and actions (like driving or stopping). To make objects, we first create a class, which is like a blueprint or template."
      ],
      "metadata": {
        "id": "6jcQeF077ANN"
      }
    },
    {
      "cell_type": "markdown",
      "source": [
        "**Q2. What is a class in OOP?**\n",
        "\n",
        "**Answer:**\n",
        "\n",
        "In Object-Oriented Programming (OOP), a class is like a blueprint or template used to create objects. A class is a way to describe something by defining what it has and what it can do.\n",
        "\n",
        "  It defines:\n",
        "\n",
        " - Properties (also called attributes or data)\n",
        "\n",
        " - Methods (also called functions or actions)"
      ],
      "metadata": {
        "id": "lNVA6x5pAMUb"
      }
    },
    {
      "cell_type": "markdown",
      "source": [
        "**Q3. What is an object in OOP?**\n",
        "\n",
        "**Answer:**\n",
        "\n",
        "An object is a real-world thing created using a class.\n",
        "A class is like a plan or design, and an object is the actual item made from that plan.\n",
        "\n",
        "Each object has:\n",
        "\n",
        "- Properties (also called attributes or data) – like name, color, age\n",
        "\n",
        "- Behaviors (also called methods or actions) – like walk, run, bark\n",
        "\n"
      ],
      "metadata": {
        "id": "RHE3r5faEPoW"
      }
    },
    {
      "cell_type": "markdown",
      "source": [
        "**Q4. What is the difference between abstraction and encapsulation?**\n",
        "\n",
        "**Answer:**\n",
        "\n",
        "**Abstraction:**   Means hiding the internal details and showing only the necessary features to the user. It helps us focus on what an object does rather than how it does it.\n",
        "\n",
        "**Encapsulation** -  Means bundling the data (variables) and the methods (functions) that operate on the data into a single unit called a class. It also involves restricting access to some parts of the object to protect it from unauthorized changes. This is done using access modifiers like private, public, and protected."
      ],
      "metadata": {
        "id": "zAz5pqjULf73"
      }
    },
    {
      "cell_type": "markdown",
      "source": [
        "**Q5. What are dunder methods in Python?**\n",
        "\n",
        "**Answer:**\n",
        "\n",
        "Dunder methods in Python are special methods that have double underscores at the beginning and end of their names.\n",
        "\n",
        "\n",
        "\"Dunder\" is short for \"Double UNDERscore\".\n",
        "\n",
        "These methods let you define how your objects behave with built-in Python operations — like printing, adding, comparing, or using functions like len()."
      ],
      "metadata": {
        "id": "RndIagoObXLz"
      }
    },
    {
      "cell_type": "markdown",
      "source": [
        "**Q6. Explain the concept of inheritance in OOP.**\n",
        "\n",
        "**Answer:**\n",
        "\n",
        "Inheritance is a concept where one class (called the child or subclass) inherits the properties and behaviors (like variables and methods) of another class (called the parent or superclass).\n",
        "\n",
        "In other words we can say:\n",
        "\n",
        "Inheritance lets a class use the code of another class, just like children get features from their parents. It makes coding faster, cleaner, and easier to manage.\n",
        "\n"
      ],
      "metadata": {
        "id": "iPZVSyoxcDS9"
      }
    },
    {
      "cell_type": "markdown",
      "source": [
        "**Q7. What is polymorphism in OOP?**\n",
        "\n",
        "**Answer:**\n",
        "\n",
        "Polymorphism is a core concept in Object-Oriented Programming (OOP) that means \"many forms\".\n",
        "It allows one interface or method name to be used for different types of objects, and each object can respond in its own way.\n",
        "\n",
        "Polymorphism helps us write clean, reusable, and flexible code.\n"
      ],
      "metadata": {
        "id": "g3KQeApLdhPk"
      }
    },
    {
      "cell_type": "markdown",
      "source": [
        "**Q8. How is encapsulation achieved in Python?**\n",
        "\n",
        "**Answer:**\n",
        "\n",
        "Encapsulation means hiding the internal details of an object and only exposing what’s necessary. In Python, this is done by using access modifiers with variables and methods inside a class."
      ],
      "metadata": {
        "id": "QWNbGws5uNfg"
      }
    },
    {
      "cell_type": "markdown",
      "source": [
        "**Q9. What is a constructor in Python?**\n",
        "\n",
        "**Answer:**\n",
        "\n",
        "A constructor is a special function in a class that runs automatically when you create an object.\n",
        "\n",
        "It is used to set values (like name, age, etc.) when the object is created.\n",
        "\n"
      ],
      "metadata": {
        "id": "KiMY6wIJwOoA"
      }
    },
    {
      "cell_type": "markdown",
      "source": [
        "**Q10. What are class and static methods in Python?**\n",
        "\n",
        "**Answer:**\n",
        "\n",
        "A class method is a function inside a class that works with the class itself, not just with one object.\n",
        "\n",
        "It can:\n",
        "\n",
        "- See or change class variables (shared by all objects)\n",
        "\n",
        "- Be called using the class name\n",
        "\n",
        "A static method is a simple function placed inside a class, but it does not use any object or class data.\n",
        "\n",
        "It:\n",
        "\n",
        "- Is just a helper function in the class\n",
        "\n",
        "- Does not use self or class\n",
        "\n",
        "- Is called using the class name\n",
        "\n"
      ],
      "metadata": {
        "id": "sTPta3tCkeHW"
      }
    },
    {
      "cell_type": "markdown",
      "source": [
        "**Q11. What is method overloading in Python?**\n",
        "\n",
        "**Answer:**\n",
        "\n",
        "Method overloading means having multiple methods with the same name but different number or types of arguments.\n",
        "\n",
        "We do it by using:\n",
        "\n",
        "- Default arguments\n",
        "\n",
        "- Or checking arguments inside the method"
      ],
      "metadata": {
        "id": "Q1XZQ1nL6R56"
      }
    },
    {
      "cell_type": "markdown",
      "source": [
        "**Q12. What is method overriding in OOP?**\n",
        "\n",
        "**Answer:**\n",
        "\n",
        "When a child class has a method with the same name as a method in the parent class,\n",
        "the child class's method replaces (or overrides) the parent class’s method."
      ],
      "metadata": {
        "id": "LmrZ2rw_6zGM"
      }
    },
    {
      "cell_type": "markdown",
      "source": [
        "**Q13. What is a property decorator in Python?**\n",
        "\n",
        "**Answer:**\n",
        "\n",
        "A property decorator lets you use methods like attributes (variables), while still keeping full control over how values are read, changed, or deleted."
      ],
      "metadata": {
        "id": "Qp5LCKrr8FwO"
      }
    },
    {
      "cell_type": "markdown",
      "source": [
        "**Q14. Why is polymorphism important in OOP?**\n",
        "\n",
        "**Answer:**\n",
        "\n",
        "Polymorphism means \"many forms\".\n",
        "\n",
        "In Object-Oriented Programming (OOP), it allows the same method or function to work in different ways depending on the object that uses it."
      ],
      "metadata": {
        "id": "cyU8z_JY-llF"
      }
    },
    {
      "cell_type": "markdown",
      "source": [
        "**Q15. What is an abstract class in Python?**\n",
        "\n",
        "**Answer:**\n",
        "\n",
        "An abstract class is a blueprint for other classes.\n",
        "It cannot be used directly to create objects.\n",
        "It is meant to be inherited by other classes.\n",
        "\n"
      ],
      "metadata": {
        "id": "KkiWPq5mG7zW"
      }
    },
    {
      "cell_type": "markdown",
      "source": [
        "**Q16. What are the advantages of OOP?**\n",
        "\n",
        "**Answer:**\n",
        "\n",
        "Object-Oriented Programming (OOP) is a way of writing code by creating objects - like real-life things - that contain data and functions (called methods).\n",
        "\n",
        "Advantages of OOP:\n",
        "- Modularity\n",
        "- Reuseability\n",
        "- Data Handling\n",
        "- Inheritance\n",
        "- Polymorphism\n",
        "- Easy to maintain and update"
      ],
      "metadata": {
        "id": "qeHSk2ZLIlxD"
      }
    },
    {
      "cell_type": "markdown",
      "source": [
        "**Q17. What is the difference between a class variable and an instance variable?**\n",
        "\n",
        "**Answer:**\n",
        "\n",
        "**Class Variable:**\n",
        "\n",
        "- Belongs to the class, not to any one object.\n",
        "\n",
        "- Shared by all objects (instances) of the class.\n",
        "\n",
        "- If one object changes it, the change is seen by all.\n",
        "\n",
        "**Instance Variable:**\n",
        "\n",
        "- Belongs to each object individually.\n",
        "\n",
        "- Different for each object.\n",
        "\n",
        "- Set using self. inside methods like __int __."
      ],
      "metadata": {
        "id": "ZZBNjON8LYDb"
      }
    },
    {
      "cell_type": "markdown",
      "source": [
        "**Q18. What is multiple inheritance in Python?**\n",
        "\n",
        "**Answer:**\n",
        "\n",
        "Multiple Inheritance means that a class can inherit from more than one parent class at the same time.\n",
        "\n",
        "A child class can get features (variables and methods) from more than one parent class."
      ],
      "metadata": {
        "id": "R8f9O23Ugfj3"
      }
    },
    {
      "cell_type": "markdown",
      "source": [
        "**Q19.  Explain the purpose of ‘’__ str__’ and ‘__repr __’ ‘ methods in Python.**\n",
        "\n",
        "**Answer:**\n",
        "\n",
        "**__ str__ → For users**\n",
        "\n",
        "- Used when you do print(object).\n",
        "\n",
        "- Shows a nice, readable message.\n",
        "\n",
        "**__ repr__ → For programmers**\n",
        "\n",
        "- Used when you just type the object name or use repr(object).\n",
        "\n",
        "- Shows a detailed or technical message, mostly for debugging.\n",
        "\n"
      ],
      "metadata": {
        "id": "alcl7m71g7nz"
      }
    },
    {
      "cell_type": "markdown",
      "source": [
        "**Q20. What is the significance of the ‘super()’ function in Python?**\n",
        "\n",
        "**Answer:**\n",
        "\n",
        "The super() function is used to call methods from the parent (or superclass) in a child class.\n",
        "\n",
        "**Why is it useful:**\n",
        "\n",
        "- To reuse code from the parent class.\n",
        "\n",
        "- Helps avoid repeating code.\n",
        "\n",
        "- Supports multiple inheritance cleanly."
      ],
      "metadata": {
        "id": "k7d3YKz9h9dV"
      }
    },
    {
      "cell_type": "markdown",
      "source": [
        "**Q21. What is the significance of the __ del__ method in Python?**\n",
        "\n",
        "**Answer:**\n",
        "\n",
        "__ del__ is a special method in Python called a destructor.\n",
        "It is called automatically when an object is about to be deleted or destroyed.\n",
        "\n",
        "The __ del__ method is important because it helps you clean up things when an object is no longer needed."
      ],
      "metadata": {
        "id": "5uLCSNWqioIn"
      }
    },
    {
      "cell_type": "markdown",
      "source": [
        "**Q22. What is the difference between @staticmethod and @classmethod in Python?**\n",
        "\n",
        "**Answer:**\n",
        "\n",
        "**@staticmethod:**\n",
        "- It doesn’t take self or cls as a parameter.\n",
        "\n",
        "- It’s just a normal function inside a class.\n",
        "\n",
        "- Used when you don’t need to access the object or class — just want to organize code.\n",
        "\n",
        "**@classmethod :**\n",
        "\n",
        "- It takes cls as the first parameter (not self).\n",
        "\n",
        "- Can access or change class variables.\n",
        "\n",
        "- Works with the class itself, not a specific object.\n",
        "\n",
        "\n"
      ],
      "metadata": {
        "id": "Jn8TaGVOjUXm"
      }
    },
    {
      "cell_type": "markdown",
      "source": [
        "**Q23. How does polymorphism work in Python with inheritance?**\n",
        "\n",
        "**Answer:**\n",
        "\n",
        "**How it works with Inheritance:**\n",
        "\n",
        "- You create a base (parent) class with a method.\n",
        "\n",
        "- Then, child classes override that method in their own way.\n",
        "\n",
        "- When you call the method, Python will automatically use the child’s version.\n"
      ],
      "metadata": {
        "id": "JOwBWOdxme1C"
      }
    },
    {
      "cell_type": "markdown",
      "source": [
        "**Q24. What is method chaining in Python OOP?**\n",
        "\n",
        "**Answer:**\n",
        "\n",
        "Method chaining means calling many methods in one line on the same object.\n",
        "\n",
        "Each method returns the object itself, so you can keep calling more methods on it.\n",
        "\n",
        "- It makes the code shorter and cleaner.\n",
        "\n",
        "- It shows steps in order.\n",
        "\n",
        "- You don't have to write the object name again and again."
      ],
      "metadata": {
        "id": "vcJLCrl_nHLd"
      }
    },
    {
      "cell_type": "markdown",
      "source": [
        "**Q25. What is the purpose of the __ call__ method in Python?**\n",
        "\n",
        "**Answer:**\n",
        "\n",
        "The __ call__ method in Python lets you use an object like a function.\n",
        "\n",
        "When you write object(), Python automatically runs the object's __ call__ method.\n",
        "\n"
      ],
      "metadata": {
        "id": "U9ap0R4OrPuz"
      }
    },
    {
      "cell_type": "markdown",
      "source": [
        "**PRACTICAL:**"
      ],
      "metadata": {
        "id": "m7f4ZSzbs3Rq"
      }
    },
    {
      "cell_type": "markdown",
      "source": [
        "**Q1. Create a parent class Animal with a method speak() that prints a generic message. Create a child class Dog**\n",
        "**that overrides the speak() method to print \"Bark!\".**\n",
        "\n",
        "\n"
      ],
      "metadata": {
        "id": "p8Db3x93vP2d"
      }
    },
    {
      "cell_type": "code",
      "source": [
        "class Animal:\n",
        "    def speak(self):\n",
        "        print(\"Animal speaks\")\n",
        "\n",
        "class Dog(Animal):\n",
        "    def speak(self):\n",
        "        print(\"Bark!\")\n",
        "\n",
        "# Create objects\n",
        "a = Animal()\n",
        "a.speak()\n",
        "\n",
        "d = Dog()\n",
        "d.speak()\n",
        "\n",
        "\n",
        "\n",
        "\n",
        "\n"
      ],
      "metadata": {
        "colab": {
          "base_uri": "https://localhost:8080/"
        },
        "id": "Tt3kFHcQdknX",
        "outputId": "77d2640b-9b13-4e83-aea0-f18624936188"
      },
      "execution_count": 5,
      "outputs": [
        {
          "output_type": "stream",
          "name": "stdout",
          "text": [
            "Animal speaks\n",
            "Bark!\n"
          ]
        }
      ]
    },
    {
      "cell_type": "markdown",
      "source": [
        "**Q2.  Write a program to create an abstract class Shape with a method area(). Derive classes Circle and Rectangle**\n",
        "**from it and implement the area() method in both.**"
      ],
      "metadata": {
        "id": "lCrpgnexe82t"
      }
    },
    {
      "cell_type": "code",
      "source": [
        "from abc import ABC, abstractmethod\n",
        "\n",
        "class Shape(ABC):\n",
        "    @abstractmethod\n",
        "    def area(self):\n",
        "        pass\n",
        "\n",
        "class Circle(Shape):\n",
        "    def __init__(self, r):\n",
        "        self.r = r\n",
        "\n",
        "    def area(self):\n",
        "        return 3.14 * self.r * self.r\n",
        "\n",
        "class Rectangle(Shape):\n",
        "    def __init__(self, l, w):\n",
        "        self.l = l\n",
        "        self.w = w\n",
        "\n",
        "    def area(self):\n",
        "        return self.l * self.w\n",
        "\n",
        "print(\"Circle area:\", Circle(3).area())\n",
        "print(\"Rectangle area:\", Rectangle(4, 5).area())\n"
      ],
      "metadata": {
        "colab": {
          "base_uri": "https://localhost:8080/"
        },
        "id": "4qk7K6qpfNFQ",
        "outputId": "34625ac7-dc1c-4cc2-8f6f-fd8572905feb"
      },
      "execution_count": 6,
      "outputs": [
        {
          "output_type": "stream",
          "name": "stdout",
          "text": [
            "Circle area: 28.259999999999998\n",
            "Rectangle area: 20\n"
          ]
        }
      ]
    },
    {
      "cell_type": "markdown",
      "source": [
        "**Q3. Implement a multi-level inheritance scenario where a class Vehicle has an attribute type. Derive a class Car**\n",
        "**and further derive a class ElectricCar that adds a battery attribute.**"
      ],
      "metadata": {
        "id": "vREAnBoogBR9"
      }
    },
    {
      "cell_type": "code",
      "source": [
        "class Vehicle:\n",
        "    def __init__(self):\n",
        "        self.type = \"Vehicle\"\n",
        "\n",
        "class Car(Vehicle):\n",
        "    def __init__(self):\n",
        "        super().__init__()\n",
        "        self.brand = \"Car\"\n",
        "\n",
        "class ElectricCar(Car):\n",
        "    def __init__(self):\n",
        "        super().__init__()\n",
        "        self.battery = \"100 kWh\"\n",
        "\n",
        "    def show_info(self):\n",
        "        print(\"Type:\", self.type)\n",
        "        print(\"Brand:\", self.brand)\n",
        "        print(\"Battery:\", self.battery)\n",
        "\n",
        "# Create object and show details\n",
        "e = ElectricCar()\n",
        "e.show_info()\n"
      ],
      "metadata": {
        "colab": {
          "base_uri": "https://localhost:8080/"
        },
        "id": "4rZLHxzHgK5h",
        "outputId": "376221b0-c8cc-41c2-cbb2-4f5922ebdb2f"
      },
      "execution_count": 7,
      "outputs": [
        {
          "output_type": "stream",
          "name": "stdout",
          "text": [
            "Type: Vehicle\n",
            "Brand: Car\n",
            "Battery: 100 kWh\n"
          ]
        }
      ]
    },
    {
      "cell_type": "markdown",
      "source": [
        "**Q4.  Demonstrate polymorphism by creating a base class Bird with a method fly(). Create two derived classes**\n",
        "**Sparrow and Penguin that override the fly() method.**\n",
        "\n",
        "\n"
      ],
      "metadata": {
        "id": "WA0HKFrZgjAG"
      }
    },
    {
      "cell_type": "code",
      "source": [
        "class Bird:\n",
        "    def fly(self):\n",
        "        pass\n",
        "\n",
        "class Sparrow(Bird):\n",
        "    def fly(self):\n",
        "        print(\"Sparrow flies\")\n",
        "\n",
        "class Penguin(Bird):\n",
        "    def fly(self):\n",
        "        print(\"Penguin can't fly\")\n",
        "\n",
        "# Polymorphism in action\n",
        "for bird in [Sparrow(), Penguin()]:\n",
        "    bird.fly()\n"
      ],
      "metadata": {
        "colab": {
          "base_uri": "https://localhost:8080/"
        },
        "id": "quKiHPoCgsy3",
        "outputId": "ae906b51-57ff-4385-c02d-9e86094173fb"
      },
      "execution_count": 8,
      "outputs": [
        {
          "output_type": "stream",
          "name": "stdout",
          "text": [
            "Sparrow flies\n",
            "Penguin can't fly\n"
          ]
        }
      ]
    },
    {
      "cell_type": "markdown",
      "source": [
        "**Q5.  Write a program to demonstrate encapsulation by creating a class BankAccount with private attributes**\n",
        "**balance and methods to deposit, withdraw, and check balance.**"
      ],
      "metadata": {
        "id": "r1NqdFHihWDl"
      }
    },
    {
      "cell_type": "code",
      "source": [
        "class BankAccount:\n",
        "    def __init__(self):\n",
        "        self.__balance = 0  # private attribute\n",
        "\n",
        "    def deposit(self, amount):\n",
        "        if amount > 0:\n",
        "            self.__balance += amount\n",
        "            print(f\"Deposited: {amount}\")\n",
        "\n",
        "    def withdraw(self, amount):\n",
        "        if amount <= self.__balance:\n",
        "            self.__balance -= amount\n",
        "            print(f\"Withdrawn: {amount}\")\n",
        "        else:\n",
        "            print(\"Insufficient balance\")\n",
        "\n",
        "    def check_balance(self):\n",
        "        print(f\"Balance: {self.__balance}\")\n",
        "\n",
        "# Create object\n",
        "account = BankAccount()\n",
        "\n",
        "# Use methods to access private data\n",
        "account.deposit(1000)\n",
        "account.withdraw(400)\n",
        "account.check_balance()\n"
      ],
      "metadata": {
        "colab": {
          "base_uri": "https://localhost:8080/"
        },
        "id": "qe0D1-Pqhc9A",
        "outputId": "4801b1ad-a94d-4abf-9832-e4ca03f5b049"
      },
      "execution_count": 10,
      "outputs": [
        {
          "output_type": "stream",
          "name": "stdout",
          "text": [
            "Deposited: 1000\n",
            "Withdrawn: 400\n",
            "Balance: 600\n"
          ]
        }
      ]
    },
    {
      "cell_type": "markdown",
      "source": [
        "**Q6.  Demonstrate runtime polymorphism using a method play() in a base class Instrument. Derive classes Guitar**\n",
        "**and Piano that implement their own version of play().**"
      ],
      "metadata": {
        "id": "EivBmK5vnBLW"
      }
    },
    {
      "cell_type": "code",
      "source": [
        "class Instrument:\n",
        "    def play(self):\n",
        "        print(\"Instrument is playing\")\n",
        "\n",
        "class Guitar(Instrument):\n",
        "    def play(self):\n",
        "        print(\"Guitar is strumming\")\n",
        "\n",
        "class Piano(Instrument):\n",
        "    def play(self):\n",
        "        print(\"Piano is playing keys\")\n",
        "\n",
        "# Polymorphism in action\n",
        "for instr in [Guitar(), Piano()]:\n",
        "    instr.play()\n"
      ],
      "metadata": {
        "colab": {
          "base_uri": "https://localhost:8080/"
        },
        "id": "5IlNulS1nIIO",
        "outputId": "6ae9106b-8041-4609-f881-2b461c6f1cee"
      },
      "execution_count": 9,
      "outputs": [
        {
          "output_type": "stream",
          "name": "stdout",
          "text": [
            "Guitar is strumming\n",
            "Piano is playing keys\n"
          ]
        }
      ]
    },
    {
      "cell_type": "markdown",
      "source": [
        "**Q7. Create a class MathOperations with a class method add_numbers() to add two numbers and a static**\n",
        "**method subtract_numbers() to subtract two numbers.**"
      ],
      "metadata": {
        "id": "EdodfJy5nehB"
      }
    },
    {
      "cell_type": "code",
      "source": [
        "class MathOperations:\n",
        "    @classmethod\n",
        "    def add_numbers(cls, a, b):\n",
        "        return a + b\n",
        "\n",
        "    @staticmethod\n",
        "    def subtract_numbers(a, b):\n",
        "        return a - b\n",
        "\n",
        "# Call the methods\n",
        "print(\"Addition:\", MathOperations.add_numbers(10, 5))\n",
        "print(\"Subtraction:\", MathOperations.subtract_numbers(10, 5))\n"
      ],
      "metadata": {
        "colab": {
          "base_uri": "https://localhost:8080/"
        },
        "id": "oB81Pe-fntl-",
        "outputId": "2a46d825-51b1-4ce3-f2a6-74a5c764a4c9"
      },
      "execution_count": 11,
      "outputs": [
        {
          "output_type": "stream",
          "name": "stdout",
          "text": [
            "Addition: 15\n",
            "Subtraction: 5\n"
          ]
        }
      ]
    },
    {
      "cell_type": "markdown",
      "source": [
        "**Q8. Implement a class Person with a class method to count the total number of persons created**."
      ],
      "metadata": {
        "id": "Hn4x2j-knzzg"
      }
    },
    {
      "cell_type": "code",
      "source": [
        "class Person:\n",
        "    count = 0  # class variable\n",
        "\n",
        "    def __init__(self, name):\n",
        "        self.name = name\n",
        "        Person.count += 1  # increase count when a new person is created\n",
        "\n",
        "    @classmethod\n",
        "    def total_persons(cls):\n",
        "        print(\"Total persons:\", cls.count)\n",
        "\n",
        "# Create objects\n",
        "p1 = Person(\"Alice\")\n",
        "p2 = Person(\"Bob\")\n",
        "\n",
        "# Show total persons\n",
        "Person.total_persons()\n"
      ],
      "metadata": {
        "colab": {
          "base_uri": "https://localhost:8080/"
        },
        "id": "xsCuwI3CoBXx",
        "outputId": "a1e48ade-9d7b-49b4-a6d9-6b5d41064ce0"
      },
      "execution_count": 12,
      "outputs": [
        {
          "output_type": "stream",
          "name": "stdout",
          "text": [
            "Total persons: 2\n"
          ]
        }
      ]
    },
    {
      "cell_type": "markdown",
      "source": [
        "**Q9. Write a class Fraction with attributes numerator and denominator. Override the str method to display the**\n",
        "**fraction as \"numerator/denominator\".**"
      ],
      "metadata": {
        "id": "YoQtHTvooEM_"
      }
    },
    {
      "cell_type": "code",
      "source": [
        "class Fraction:\n",
        "    def __init__(self, numerator, denominator):\n",
        "        self.numerator = numerator\n",
        "        self.denominator = denominator\n",
        "\n",
        "    def __str__(self):\n",
        "        return f\"{self.numerator}/{self.denominator}\"\n",
        "\n",
        "# Create object and print\n",
        "f = Fraction(3, 4)\n",
        "print(f)\n"
      ],
      "metadata": {
        "colab": {
          "base_uri": "https://localhost:8080/"
        },
        "id": "ZjAe0V-6oLBZ",
        "outputId": "e2d4c671-ecc4-4c2b-f942-25dafc042431"
      },
      "execution_count": 13,
      "outputs": [
        {
          "output_type": "stream",
          "name": "stdout",
          "text": [
            "3/4\n"
          ]
        }
      ]
    },
    {
      "cell_type": "markdown",
      "source": [
        "**Q10.Demonstrate operator overloading by creating a class Vector and overriding the add method to add two vectors.**"
      ],
      "metadata": {
        "id": "FMDvV5G8oSJG"
      }
    },
    {
      "cell_type": "code",
      "source": [
        "class Vector:\n",
        "    def __init__(self, x, y):\n",
        "        self.x = x\n",
        "        self.y = y\n",
        "\n",
        "    def __add__(self, other):\n",
        "        return Vector(self.x + other.x, self.y + other.y)\n",
        "\n",
        "    def __str__(self):\n",
        "        return f\"({self.x}, {self.y})\"\n",
        "\n",
        "# Create two vectors\n",
        "v1 = Vector(2, 3)\n",
        "v2 = Vector(4, 5)\n",
        "\n",
        "# Add vectors using +\n",
        "v3 = v1 + v2\n",
        "\n",
        "# Print result\n",
        "print(\"Result:\", v3)  # Output: (6, 8)\n",
        "\n"
      ],
      "metadata": {
        "colab": {
          "base_uri": "https://localhost:8080/"
        },
        "id": "dQtVBcBiocmn",
        "outputId": "40a3d502-247b-4641-8bbf-a9be4dcd25f3"
      },
      "execution_count": 14,
      "outputs": [
        {
          "output_type": "stream",
          "name": "stdout",
          "text": [
            "Result: (6, 8)\n"
          ]
        }
      ]
    },
    {
      "cell_type": "markdown",
      "source": [
        "**Q11. Create a class Person with attributes name and age. Add a method greet() that prints \"Hello, my name is {name} and I am {age} years old.\"**"
      ],
      "metadata": {
        "id": "5cLitaArokQj"
      }
    },
    {
      "cell_type": "code",
      "source": [
        "class Person:\n",
        "    def __init__(self, name, age):\n",
        "        self.name = name\n",
        "        self.age = age\n",
        "\n",
        "    def greet(self):\n",
        "        print(f\"Hello, my name is {self.name} and I am {self.age} years old.\")\n",
        "\n",
        "# Create object and call greet\n",
        "p = Person(\"Alice\", 25)\n",
        "p.greet()\n"
      ],
      "metadata": {
        "colab": {
          "base_uri": "https://localhost:8080/"
        },
        "id": "aLrvoCJdouT-",
        "outputId": "5d484615-522b-4e8b-989c-8ce3bec45c1f"
      },
      "execution_count": 15,
      "outputs": [
        {
          "output_type": "stream",
          "name": "stdout",
          "text": [
            "Hello, my name is Alice and I am 25 years old.\n"
          ]
        }
      ]
    },
    {
      "cell_type": "markdown",
      "source": [
        "**Q12.  Implement a class Student with attributes name and grades. Create a method average_grade() to compute the average of the grades.**"
      ],
      "metadata": {
        "id": "2g-CsFEro7QX"
      }
    },
    {
      "cell_type": "code",
      "source": [
        "class Student:\n",
        "    def __init__(self, name, grades):\n",
        "        self.name = name\n",
        "        self.grades = grades  # list of grades\n",
        "\n",
        "    def average_grade(self):\n",
        "        return sum(self.grades) / len(self.grades)\n",
        "\n",
        "# Create a student object\n",
        "s = Student(\"John\", [85, 90, 78, 92])\n",
        "\n",
        "# Print average grade\n",
        "print(\"Average grade:\", s.average_grade())\n"
      ],
      "metadata": {
        "colab": {
          "base_uri": "https://localhost:8080/"
        },
        "id": "kanMF5iUpBrK",
        "outputId": "e570c890-0ae8-41a8-a97e-bd303a538875"
      },
      "execution_count": 16,
      "outputs": [
        {
          "output_type": "stream",
          "name": "stdout",
          "text": [
            "Average grade: 86.25\n"
          ]
        }
      ]
    },
    {
      "cell_type": "markdown",
      "source": [
        "**Q13. Create a class Rectangle with methods set_dimensions() to set the dimensions and area() to calculate the area.**"
      ],
      "metadata": {
        "id": "Kn9N_7AcpxeO"
      }
    },
    {
      "cell_type": "code",
      "source": [
        "class Rectangle:\n",
        "    def set_dimensions(self, length, width):\n",
        "        self.length = length\n",
        "        self.width = width\n",
        "\n",
        "    def area(self):\n",
        "        return self.length * self.width\n",
        "\n",
        "# Create object and use methods\n",
        "r = Rectangle()\n",
        "r.set_dimensions(5, 3)\n",
        "print(\"Area:\", r.area())\n"
      ],
      "metadata": {
        "id": "z0MkyIAcp_YX"
      },
      "execution_count": null,
      "outputs": []
    },
    {
      "cell_type": "markdown",
      "source": [
        "**Q14. Create a class Employee with a method calculate_salary() that computes the salary based on hours worked and hourly rate. Create a derived class Manager that adds a bonus to the salary.**"
      ],
      "metadata": {
        "id": "sP4mHRE1qFb-"
      }
    },
    {
      "cell_type": "code",
      "source": [
        "class Employee:\n",
        "    def calculate_salary(self, hours, rate):\n",
        "        return hours * rate\n",
        "\n",
        "class Manager(Employee):\n",
        "    def calculate_salary(self, hours, rate, bonus):\n",
        "        base_salary = super().calculate_salary(hours, rate)\n",
        "        return base_salary + bonus\n",
        "\n",
        "# Create objects\n",
        "e = Employee()\n",
        "m = Manager()\n",
        "\n",
        "print(\"Employee Salary:\", e.calculate_salary(40, 100))\n",
        "print(\"Manager Salary:\", m.calculate_salary(40, 100, 500))\n"
      ],
      "metadata": {
        "colab": {
          "base_uri": "https://localhost:8080/"
        },
        "id": "JDloCnrWqPNK",
        "outputId": "28720837-71c8-4d77-b62f-6c4bf6214385"
      },
      "execution_count": 17,
      "outputs": [
        {
          "output_type": "stream",
          "name": "stdout",
          "text": [
            "Employee Salary: 4000\n",
            "Manager Salary: 4500\n"
          ]
        }
      ]
    },
    {
      "cell_type": "markdown",
      "source": [
        "**Q15. Create a class Product with attributes name, price, and quantity. Implement a method total_price() that. calculates the total price of the product.**"
      ],
      "metadata": {
        "id": "bpfPoSbSqW_I"
      }
    },
    {
      "cell_type": "code",
      "source": [
        "class Product:\n",
        "    def __init__(self, name, price, quantity):\n",
        "        self.name = name\n",
        "        self.price = price\n",
        "        self.quantity = quantity\n",
        "\n",
        "    def total_price(self):\n",
        "        return self.price * self.quantity\n",
        "\n",
        "# Create product object\n",
        "p = Product(\"Pen\", 10, 5)\n",
        "\n",
        "print(\"Total Price:\", p.total_price())\n"
      ],
      "metadata": {
        "colab": {
          "base_uri": "https://localhost:8080/"
        },
        "id": "qf5UIDA_qiRI",
        "outputId": "2059a14d-8477-4b9d-e7fe-e5443127cda5"
      },
      "execution_count": 18,
      "outputs": [
        {
          "output_type": "stream",
          "name": "stdout",
          "text": [
            "Total Price: 50\n"
          ]
        }
      ]
    },
    {
      "cell_type": "markdown",
      "source": [
        "**Q16. Create a class Animal with an abstract method sound(). Create two derived classes Cow and Sheep that implement the sound() method.**"
      ],
      "metadata": {
        "id": "zvApkOsKqpnQ"
      }
    },
    {
      "cell_type": "code",
      "source": [
        "from abc import ABC, abstractmethod\n",
        "\n",
        "class Animal(ABC):\n",
        "    @abstractmethod\n",
        "    def sound(self):\n",
        "        pass\n",
        "\n",
        "class Cow(Animal):\n",
        "    def sound(self):\n",
        "        print(\"Cow says Moo\")\n",
        "\n",
        "class Sheep(Animal):\n",
        "    def sound(self):\n",
        "        print(\"Sheep says Baa\")\n",
        "\n",
        "# Create objects and call sound\n",
        "c = Cow()\n",
        "s = Sheep()\n",
        "\n",
        "c.sound()\n",
        "s.sound()\n"
      ],
      "metadata": {
        "colab": {
          "base_uri": "https://localhost:8080/"
        },
        "id": "DVjh90ruq3Fe",
        "outputId": "93f27a75-8ac6-415a-c9db-6a8426b0bc2c"
      },
      "execution_count": 19,
      "outputs": [
        {
          "output_type": "stream",
          "name": "stdout",
          "text": [
            "Cow says Moo\n",
            "Sheep says Baa\n"
          ]
        }
      ]
    },
    {
      "cell_type": "markdown",
      "source": [
        "**Q17. Create a class Book with attributes title, author, and year_published. Add a method get_book_info() that returns a formatted string with the book's details.**"
      ],
      "metadata": {
        "id": "P-dxgYsYq_Rc"
      }
    },
    {
      "cell_type": "code",
      "source": [
        "class Book:\n",
        "    def __init__(self, title, author, year_published):\n",
        "        self.title = title\n",
        "        self.author = author\n",
        "        self.year_published = year_published\n",
        "\n",
        "    def get_book_info(self):\n",
        "        return f\"Title: {self.title}, Author: {self.author}, Year: {self.year_published}\"\n",
        "\n",
        "# Create a book object\n",
        "b = Book(\"Harry Potter\", \"J.K. Rowling\", 1997)\n",
        "\n",
        "print(b.get_book_info())\n"
      ],
      "metadata": {
        "id": "BmZT1AzdrWwB"
      },
      "execution_count": null,
      "outputs": []
    },
    {
      "cell_type": "markdown",
      "source": [
        "**Q18.  Create a class House with attributes address and price. Create a derived class Mansion that adds an attribute number_of_rooms.**"
      ],
      "metadata": {
        "id": "H21DY-rCrtl1"
      }
    },
    {
      "cell_type": "code",
      "source": [
        "class House:\n",
        "    def __init__(self):\n",
        "        self.address = \"Main Street\"\n",
        "        self.price = 100000\n",
        "\n",
        "class Mansion(House):\n",
        "    def __init__(self):\n",
        "        super().__init__()\n",
        "        self.rooms = 8\n",
        "\n",
        "    def show(self):\n",
        "        print(\"Address:\", self.address)\n",
        "        print(\"Price:\", self.price)\n",
        "        print(\"Rooms:\", self.rooms)\n",
        "\n",
        "# Create mansion object\n",
        "m = Mansion()\n",
        "m.show()\n"
      ],
      "metadata": {
        "colab": {
          "base_uri": "https://localhost:8080/"
        },
        "id": "2rrJ_d5ur1z9",
        "outputId": "53301d4e-6149-4e53-f881-4d5212ff958e"
      },
      "execution_count": 20,
      "outputs": [
        {
          "output_type": "stream",
          "name": "stdout",
          "text": [
            "Address: Main Street\n",
            "Price: 100000\n",
            "Rooms: 8\n"
          ]
        }
      ]
    }
  ]
}